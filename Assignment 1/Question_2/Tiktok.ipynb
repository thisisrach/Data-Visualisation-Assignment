{
 "cells": [
  {
   "cell_type": "code",
   "execution_count": 1,
   "id": "bae9361e-da8e-48e9-b079-38ea3736ddaf",
   "metadata": {},
   "outputs": [],
   "source": [
    "import pandas as pd\n",
    "import numpy as np"
   ]
  },
  {
   "cell_type": "code",
   "execution_count": 2,
   "id": "205fb647-439f-4089-93ef-e21eaf920168",
   "metadata": {},
   "outputs": [],
   "source": [
    "test_features = pd.read_csv('test_features.csv')\n",
    "test_target = pd.read_csv('test_target.csv')\n",
    "tiktok_performance = pd.read_csv('tiktok_performance.csv')\n",
    "train_features = pd.read_csv('train_features.csv')\n",
    "train_target = pd.read_csv('train_target.csv')"
   ]
  },
  {
   "cell_type": "code",
   "execution_count": 3,
   "id": "8db7e6a7-7476-4877-87cf-a6c7f7a79dc1",
   "metadata": {},
   "outputs": [
    {
     "name": "stdout",
     "output_type": "stream",
     "text": [
      "Test Features:\n",
      "    Comments  Shares  Views  Video_Length  User_Followers  User_Following  \\\n",
      "0       200     400  70000            45            2000             500   \n",
      "1       180     210  50000            45            1500             350   \n",
      "\n",
      "   User_Likes  \n",
      "0        6000  \n",
      "1        4000  \n",
      "\n",
      "Test Target:\n",
      "    Likes\n",
      "0   2300\n",
      "1   1800\n",
      "\n",
      "TikTok Performance:\n",
      "    Video_ID  User_ID Username      Video_Title  Category  Likes  Comments  \\\n",
      "0       101        1    user1  Dance Challenge     Dance   1500       120   \n",
      "1       102        2    user2       Funny Skit    Comedy   2300       200   \n",
      "2       103        3    user3         Tutorial  Tutorial   1200       150   \n",
      "3       104        4    user4      Viral Dance     Dance   4500       500   \n",
      "4       105        5    user5    Comedy Sketch    Comedy   1800       180   \n",
      "\n",
      "   Shares  Views Upload_Date  Video_Length   Hashtags  User_Followers  \\\n",
      "0     300  50000  2024-08-01            30     #dance            1500   \n",
      "1     400  70000  2024-08-02            45     #funny            2000   \n",
      "2     250  40000  2024-08-03            60  #tutorial            1200   \n",
      "3     600  90000  2024-08-04            30     #viral            1800   \n",
      "4     210  50000  2024-08-05            45    #comedy            1500   \n",
      "\n",
      "   User_Following  User_Likes  \n",
      "0             300        5000  \n",
      "1             500        6000  \n",
      "2             200        3000  \n",
      "3             400        7000  \n",
      "4             350        4000  \n",
      "\n",
      "Train Features:\n",
      "    Comments  Shares  Views  Video_Length  User_Followers  User_Following  \\\n",
      "0       150     250  40000            60            1200             200   \n",
      "1       120     300  50000            30            1500             300   \n",
      "2       500     600  90000            30            1800             400   \n",
      "\n",
      "   User_Likes  \n",
      "0        3000  \n",
      "1        5000  \n",
      "2        7000  \n",
      "\n",
      "Train Target:\n",
      "    Likes\n",
      "0   1200\n",
      "1   1500\n",
      "2   4500\n"
     ]
    }
   ],
   "source": [
    "print(\"Test Features:\\n\", test_features.head())\n",
    "print(\"\\nTest Target:\\n\", test_target.head())\n",
    "print(\"\\nTikTok Performance:\\n\", tiktok_performance.head())\n",
    "print(\"\\nTrain Features:\\n\", train_features.head())\n",
    "print(\"\\nTrain Target:\\n\", train_target.head())"
   ]
  },
  {
   "cell_type": "markdown",
   "id": "d7d10cd6-cb71-49b5-a89f-9cf36ef38ace",
   "metadata": {},
   "source": [
    "## Basic Operations"
   ]
  },
  {
   "cell_type": "code",
   "execution_count": 4,
   "id": "e69b9f14-e783-4435-82cd-bf42bc35b595",
   "metadata": {},
   "outputs": [
    {
     "name": "stdout",
     "output_type": "stream",
     "text": [
      "Missing values in TikTok Performance dataset:\n",
      " Video_ID          0\n",
      "User_ID           0\n",
      "Username          0\n",
      "Video_Title       0\n",
      "Category          0\n",
      "Likes             0\n",
      "Comments          0\n",
      "Shares            0\n",
      "Views             0\n",
      "Upload_Date       0\n",
      "Video_Length      0\n",
      "Hashtags          0\n",
      "User_Followers    0\n",
      "User_Following    0\n",
      "User_Likes        0\n",
      "dtype: int64\n"
     ]
    }
   ],
   "source": [
    "# Checking for missing values\n",
    "print(\"Missing values in TikTok Performance dataset:\\n\", tiktok_performance.isnull().sum())"
   ]
  },
  {
   "cell_type": "code",
   "execution_count": 5,
   "id": "8caf22a6-06f6-494a-8b46-f5e2faf7a3c9",
   "metadata": {},
   "outputs": [],
   "source": [
    "mean_views = tiktok_performance['Views'].mean()\n",
    "median_likes = np.median(tiktok_performance['Likes'])\n",
    "std_comments = np.std(tiktok_performance['Comments'])"
   ]
  },
  {
   "cell_type": "code",
   "execution_count": 6,
   "id": "e6475778-191f-46fb-bf47-2c97778c9b60",
   "metadata": {},
   "outputs": [
    {
     "name": "stdout",
     "output_type": "stream",
     "text": [
      "Mean Views: 60000.0\n",
      "Median Likes: 1800.0\n",
      "Standard Deviation of Comments: 137.69531582446805\n"
     ]
    }
   ],
   "source": [
    "print(f\"Mean Views: {mean_views}\")\n",
    "print(f\"Median Likes: {median_likes}\")\n",
    "print(f\"Standard Deviation of Comments: {std_comments}\")"
   ]
  },
  {
   "cell_type": "code",
   "execution_count": 7,
   "id": "3ebbd139-0281-4432-aed6-fd5b3ebd0827",
   "metadata": {},
   "outputs": [
    {
     "name": "stdout",
     "output_type": "stream",
     "text": [
      "Average Views and Likes per Category:\n",
      "             Views   Likes\n",
      "Category                 \n",
      "Comedy    60000.0  2050.0\n",
      "Dance     70000.0  3000.0\n",
      "Tutorial  40000.0  1200.0\n"
     ]
    }
   ],
   "source": [
    "# Aggregating the data for insights\n",
    "views_likes_group = tiktok_performance.groupby('Category')[['Views', 'Likes']].mean()\n",
    "print(\"Average Views and Likes per Category:\\n\", views_likes_group)"
   ]
  },
  {
   "cell_type": "markdown",
   "id": "1f9692c9-c7e0-4dd6-9680-8b4db3416909",
   "metadata": {},
   "source": [
    "## Advanced Operations"
   ]
  },
  {
   "cell_type": "code",
   "execution_count": 8,
   "id": "4478049f-3baa-40fe-898e-91037c04a050",
   "metadata": {},
   "outputs": [],
   "source": [
    "# Merging training and testing features\n",
    "train_data = pd.concat([train_features, train_target], axis=1)\n",
    "test_data = pd.concat([test_features, test_target], axis=1)"
   ]
  },
  {
   "cell_type": "code",
   "execution_count": 9,
   "id": "89ff6c3a-2a3b-418b-875f-6ee947891712",
   "metadata": {},
   "outputs": [
    {
     "name": "stdout",
     "output_type": "stream",
     "text": [
      "Combined Train and Test Data:\n",
      "    Comments  Shares  Views  Video_Length  User_Followers  User_Following  \\\n",
      "0       150     250  40000            60            1200             200   \n",
      "1       120     300  50000            30            1500             300   \n",
      "2       500     600  90000            30            1800             400   \n",
      "3       200     400  70000            45            2000             500   \n",
      "4       180     210  50000            45            1500             350   \n",
      "\n",
      "   User_Likes  Likes  \n",
      "0        3000   1200  \n",
      "1        5000   1500  \n",
      "2        7000   4500  \n",
      "3        6000   2300  \n",
      "4        4000   1800  \n"
     ]
    }
   ],
   "source": [
    "# Merging train_data and test_data\n",
    "full_data = pd.concat([train_data, test_data], ignore_index=True)\n",
    "print(\"Combined Train and Test Data:\\n\", full_data.head())"
   ]
  },
  {
   "cell_type": "code",
   "execution_count": 10,
   "id": "27fd11bf-a4d7-41f0-98a2-b11dd00f7854",
   "metadata": {},
   "outputs": [
    {
     "name": "stdout",
     "output_type": "stream",
     "text": [
      "Merged Data with TikTok Performance:\n",
      "    Comments  Shares  Views  Video_Length_x  User_Followers  User_Following  \\\n",
      "0       150     250  40000              60            1200             200   \n",
      "1       120     300  50000              30            1500             300   \n",
      "2       500     600  90000              30            1800             400   \n",
      "3       200     400  70000              45            2000             500   \n",
      "4       180     210  50000              45            1500             350   \n",
      "\n",
      "   User_Likes  Likes_x  Video_ID  User_ID Username      Video_Title  Category  \\\n",
      "0        3000     1200       103        3    user3         Tutorial  Tutorial   \n",
      "1        5000     1500       101        1    user1  Dance Challenge     Dance   \n",
      "2        7000     4500       104        4    user4      Viral Dance     Dance   \n",
      "3        6000     2300       102        2    user2       Funny Skit    Comedy   \n",
      "4        4000     1800       105        5    user5    Comedy Sketch    Comedy   \n",
      "\n",
      "   Likes_y Upload_Date  Video_Length_y   Hashtags  \n",
      "0     1200  2024-08-03              60  #tutorial  \n",
      "1     1500  2024-08-01              30     #dance  \n",
      "2     4500  2024-08-04              30     #viral  \n",
      "3     2300  2024-08-02              45     #funny  \n",
      "4     1800  2024-08-05              45    #comedy  \n"
     ]
    }
   ],
   "source": [
    "# Merging Tiktok Performance dataset\n",
    "merged_data = pd.merge(full_data, tiktok_performance, on=['Comments', 'Shares', 'Views', 'User_Followers', 'User_Following', 'User_Likes'], how='inner')\n",
    "print(\"Merged Data with TikTok Performance:\\n\", merged_data.head())"
   ]
  },
  {
   "cell_type": "code",
   "execution_count": 11,
   "id": "28792393-1e40-4220-a6da-e951146513d5",
   "metadata": {},
   "outputs": [
    {
     "name": "stdout",
     "output_type": "stream",
     "text": [
      "Average Engagement Rate per Category:\n",
      " Category\n",
      "Comedy      0.042614\n",
      "Dance       0.050311\n",
      "Tutorial    0.040000\n",
      "Name: engagement_rate, dtype: float64\n"
     ]
    }
   ],
   "source": [
    "# Calculating engagement metrics and data analysis\n",
    "merged_data['engagement_rate'] = (merged_data['Likes_x'] + merged_data['Comments'] + merged_data['Shares']) / merged_data['Views']\n",
    "merged_data['follower_engagement'] = merged_data['Likes_x'] / merged_data['User_Followers']\n",
    "\n",
    "# Calculating average engagement rate per category\n",
    "category_engagement = merged_data.groupby('Category')['engagement_rate'].mean()\n",
    "print(\"Average Engagement Rate per Category:\\n\", category_engagement)"
   ]
  },
  {
   "cell_type": "markdown",
   "id": "7ddfa7be-a6de-40e9-ac55-c4fffb8542a4",
   "metadata": {},
   "source": [
    "## Visualisation"
   ]
  },
  {
   "cell_type": "code",
   "execution_count": 12,
   "id": "8e67c61d-a371-45b0-acfd-f03e19fd36b2",
   "metadata": {},
   "outputs": [
    {
     "data": {
      "image/png": "[encoded data removed]",
      "text/plain": [
       "<Figure size 640x480 with 1 Axes>"
      ]
     },
     "metadata": {},
     "output_type": "display_data"
    }
   ],
   "source": [
    "import matplotlib.pyplot as plt\n",
    "\n",
    "# Now ploting for avg engagement rate per category\n",
    "category_engagement.plot(kind='bar', title=\"Average Engagement Rate per Category\")\n",
    "plt.xlabel(\"Category\")\n",
    "plt.ylabel(\"Engagement Rate\")\n",
    "plt.show()"
   ]
  },
  {
   "cell_type": "code",
   "execution_count": null,
   "id": "a50080be-dafa-4c9c-a1bf-434fa7f1e2a0",
   "metadata": {},
   "outputs": [],
   "source": []
  }
 ],
 "metadata": {
  "kernelspec": {
   "display_name": "Python 3 (ipykernel)",
   "language": "python",
   "name": "python3"
  },
  "language_info": {
   "codemirror_mode": {
    "name": "ipython",
    "version": 3
   },
   "file_extension": ".py",
   "mimetype": "text/x-python",
   "name": "python",
   "nbconvert_exporter": "python",
   "pygments_lexer": "ipython3",
   "version": "3.11.7"
  }
 },
 "nbformat": 4,
 "nbformat_minor": 5
}
