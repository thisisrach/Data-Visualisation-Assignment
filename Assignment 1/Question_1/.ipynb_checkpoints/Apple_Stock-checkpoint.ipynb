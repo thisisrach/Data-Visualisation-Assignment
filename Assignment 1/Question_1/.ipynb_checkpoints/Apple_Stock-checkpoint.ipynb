{
 "cells": [
  {
   "cell_type": "markdown",
   "id": "f71c0a49-ab33-4f0a-8902-eb62f255b394",
   "metadata": {},
   "source": [
    "## Calculating the statistics for 'Close' column"
   ]
  },
  {
   "cell_type": "code",
   "execution_count": 1,
   "id": "d3a7f997-e19a-44e8-bada-d8d6140ce8ed",
   "metadata": {},
   "outputs": [
    {
     "name": "stdout",
     "output_type": "stream",
     "text": [
      "1\n"
     ]
    }
   ],
   "source": [
    "import pandas as pd\n",
    "import numpy as np\n",
    "\n",
    "data = pd.read_csv('Apple_Stock.csv')\n",
    "\n",
    "# Checking for missing values\n",
    "print(data['Close'].isna().sum())"
   ]
  },
  {
   "cell_type": "code",
   "execution_count": 2,
   "id": "26dcb17d-b0e5-4759-aab7-e4dc0a0e58af",
   "metadata": {},
   "outputs": [],
   "source": [
    "# Using Pandas\n",
    "mean_close = data['Close'].mean()\n",
    "median_close = data['Close'].median()\n",
    "mode_close = data['Close'].mode()[0] \n",
    "std_dev_close = data['Close'].std()"
   ]
  },
  {
   "cell_type": "code",
   "execution_count": 3,
   "id": "d8216993-c303-4719-a03c-b1299b9a89d2",
   "metadata": {},
   "outputs": [],
   "source": [
    "# Using Numpy\n",
    "mean_close_np = np.mean(data['Close'])\n",
    "median_close_np = np.nanmedian(data['Close']) \n",
    "std_dev_close_np = np.std(data['Close'], ddof=1) "
   ]
  },
  {
   "cell_type": "code",
   "execution_count": 4,
   "id": "e684842f-6995-4df7-831d-047fe9379ec8",
   "metadata": {},
   "outputs": [
    {
     "name": "stdout",
     "output_type": "stream",
     "text": [
      "Using Pandas:\n",
      "Mean (Close): 9.01893262725911\n",
      "Median (Close): 0.4375\n",
      "Mode (Close): 0.399554\n",
      "Standard Deviation (Close): 16.868353148240665\n",
      "\n",
      "Using Numpy:\n",
      "Mean (Close): 9.01893262725911\n",
      "Median (Close): 0.4375\n",
      "Standard Deviation (Close): 16.868353148240665\n"
     ]
    }
   ],
   "source": [
    "print(\"Using Pandas:\")\n",
    "print(f\"Mean (Close): {mean_close}\")\n",
    "print(f\"Median (Close): {median_close}\")\n",
    "print(f\"Mode (Close): {mode_close}\")\n",
    "print(f\"Standard Deviation (Close): {std_dev_close}\")\n",
    "\n",
    "print(\"\\nUsing Numpy:\")\n",
    "print(f\"Mean (Close): {mean_close_np}\")\n",
    "print(f\"Median (Close): {median_close_np}\")\n",
    "print(f\"Standard Deviation (Close): {std_dev_close_np}\")"
   ]
  },
  {
   "cell_type": "markdown",
   "id": "2f05d7e6-273f-4c4a-949b-db24853281f3",
   "metadata": {},
   "source": [
    "## Calculating the statistics for other columns"
   ]
  },
  {
   "cell_type": "code",
   "execution_count": 5,
   "id": "301b3339-0927-45df-a592-189a2f9b268e",
   "metadata": {},
   "outputs": [
    {
     "name": "stdout",
     "output_type": "stream",
     "text": [
      "Using Pandas:\n",
      "Mean (Open): 9.013321904243634\n",
      "Median (Open): 0.4375\n",
      "Mode (Open): 0.354911\n",
      "Standard Deviation (Open): 16.842642722615818\n",
      "\n",
      "Using Numpy:\n",
      "Mean (Open): 9.013321904243634\n",
      "Median (Open): 0.4375\n",
      "Standard Deviation (Open): 16.842642722615818\n"
     ]
    }
   ],
   "source": [
    "# Using Pandas\n",
    "mean_open = data['Open'].mean()\n",
    "median_open = data['Open'].median()\n",
    "mode_open = data['Open'].mode()[0] \n",
    "std_dev_open = data['Open'].std()\n",
    "\n",
    "# Using Numpy\n",
    "mean_open_np = np.mean(data['Open'])\n",
    "median_open_np = np.nanmedian(data['Open'])  \n",
    "std_dev_open_np = np.std(data['Open'], ddof=1) \n",
    "\n",
    "print(\"Using Pandas:\")\n",
    "print(f\"Mean (Open): {mean_open}\")\n",
    "print(f\"Median (Open): {median_open}\")\n",
    "print(f\"Mode (Open): {mode_open}\")\n",
    "print(f\"Standard Deviation (Open): {std_dev_open}\")\n",
    "\n",
    "print(\"\\nUsing Numpy:\")\n",
    "print(f\"Mean (Open): {mean_open_np}\")\n",
    "print(f\"Median (Open): {median_open_np}\")\n",
    "print(f\"Standard Deviation (Open): {std_dev_open_np}\")"
   ]
  },
  {
   "cell_type": "code",
   "execution_count": 6,
   "id": "2f111a40-0172-4edc-9409-d5422c14c8b1",
   "metadata": {},
   "outputs": [
    {
     "name": "stdout",
     "output_type": "stream",
     "text": [
      "Using Pandas:\n",
      "Mean (High): 9.107720031253121\n",
      "Median (High): 0.446429\n",
      "Mode (High): 0.372768\n",
      "Standard Deviation (High): 17.028098740241713\n",
      "\n",
      "Using Numpy:\n",
      "Mean (High): 9.107720031253121\n",
      "Median (High): 0.446429\n",
      "Standard Deviation (High): 17.028098740241713\n"
     ]
    }
   ],
   "source": [
    "# Using Pandas\n",
    "mean_high = data['High'].mean()\n",
    "median_high = data['High'].median()\n",
    "mode_high = data['High'].mode()[0] \n",
    "std_dev_high = data['High'].std()\n",
    "\n",
    "# Using Numpy\n",
    "mean_high_np = np.mean(data['High'])\n",
    "median_high_np = np.nanmedian(data['High'])  \n",
    "std_dev_high_np = np.std(data['High'], ddof=1) \n",
    "\n",
    "print(\"Using Pandas:\")\n",
    "print(f\"Mean (High): {mean_high}\")\n",
    "print(f\"Median (High): {median_high}\")\n",
    "print(f\"Mode (High): {mode_high}\")\n",
    "print(f\"Standard Deviation (High): {std_dev_high}\")\n",
    "\n",
    "print(\"\\nUsing Numpy:\")\n",
    "print(f\"Mean (High): {mean_high_np}\")\n",
    "print(f\"Median (High): {median_high_np}\")\n",
    "print(f\"Standard Deviation (High): {std_dev_high_np}\")"
   ]
  },
  {
   "cell_type": "code",
   "execution_count": 7,
   "id": "7885ee56-7002-4d92-9c7f-ce56515bd716",
   "metadata": {},
   "outputs": [
    {
     "name": "stdout",
     "output_type": "stream",
     "text": [
      "Using Pandas:\n",
      "Mean (Low): 8.92099345391912\n",
      "Median (Low): 0.430357\n",
      "Mode (Low): 0.357143\n",
      "Standard Deviation (Low): 16.677225313119468\n",
      "\n",
      "Using Numpy:\n",
      "Mean (Low): 8.92099345391912\n",
      "Median (Low): 0.430357\n",
      "Standard Deviation (Low): 16.677225313119468\n"
     ]
    }
   ],
   "source": [
    "# Using Pandas\n",
    "mean_low = data['Low'].mean()\n",
    "median_low = data['Low'].median()\n",
    "mode_low = data['Low'].mode()[0] \n",
    "std_dev_low = data['Low'].std()\n",
    "\n",
    "# Using Numpy\n",
    "mean_low_np = np.mean(data['Low'])\n",
    "median_low_np = np.nanmedian(data['Low'])  \n",
    "std_dev_low_np = np.std(data['Low'], ddof=1) \n",
    "\n",
    "print(\"Using Pandas:\")\n",
    "print(f\"Mean (Low): {mean_low}\")\n",
    "print(f\"Median (Low): {median_low}\")\n",
    "print(f\"Mode (Low): {mode_low}\")\n",
    "print(f\"Standard Deviation (Low): {std_dev_low}\")\n",
    "\n",
    "print(\"\\nUsing Numpy:\")\n",
    "print(f\"Mean (Low): {mean_low_np}\")\n",
    "print(f\"Median (Low): {median_low_np}\")\n",
    "print(f\"Standard Deviation (Low): {std_dev_low_np}\")"
   ]
  },
  {
   "cell_type": "code",
   "execution_count": 8,
   "id": "eb4077ee-bea7-4f15-96f4-2ea5a86411bb",
   "metadata": {},
   "outputs": [
    {
     "name": "stdout",
     "output_type": "stream",
     "text": [
      "Using Pandas:\n",
      "Mean (Adj Close): 8.478195025761357\n",
      "Median (Adj Close): 0.369111\n",
      "Mode (Adj Close): 0.087173\n",
      "Standard Deviation (Adj Close): 16.466161109815552\n",
      "\n",
      "Using Numpy:\n",
      "Mean (Adj Close): 8.478195025761357\n",
      "Median (Adj Close): 0.369111\n",
      "Standard Deviation (Adj Close): 16.466161109815552\n"
     ]
    }
   ],
   "source": [
    "# Using Pandas\n",
    "mean_adj_close = data['Adj Close'].mean()\n",
    "median_adj_close = data['Adj Close'].median()\n",
    "mode_adj_close = data['Adj Close'].mode()[0] \n",
    "std_dev_adj_close = data['Adj Close'].std()\n",
    "\n",
    "# Using Numpy\n",
    "mean_adj_close_np = np.mean(data['Adj Close'])\n",
    "median_adj_close_np = np.nanmedian(data['Adj Close'])  \n",
    "std_dev_adj_close_np = np.std(data['Adj Close'], ddof=1) \n",
    "\n",
    "print(\"Using Pandas:\")\n",
    "print(f\"Mean (Adj Close): {mean_adj_close}\")\n",
    "print(f\"Median (Adj Close): {median_adj_close}\")\n",
    "print(f\"Mode (Adj Close): {mode_adj_close}\")\n",
    "print(f\"Standard Deviation (Adj Close): {std_dev_adj_close}\")\n",
    "\n",
    "print(\"\\nUsing Numpy:\")\n",
    "print(f\"Mean (Adj Close): {mean_adj_close_np}\")\n",
    "print(f\"Median (Adj Close): {median_adj_close_np}\")\n",
    "print(f\"Standard Deviation (Adj Close): {std_dev_adj_close_np}\")"
   ]
  },
  {
   "cell_type": "code",
   "execution_count": 9,
   "id": "4e737231-70a0-4beb-9ce0-b231d8bb6382",
   "metadata": {},
   "outputs": [
    {
     "name": "stdout",
     "output_type": "stream",
     "text": [
      "Using Pandas:\n",
      "Mean (Volume): 341318765.53170246\n",
      "Median (Volume): 228538000.0\n",
      "Mode (Volume): 246400000.0\n",
      "Standard Deviation (Volume): 342653409.70214003\n",
      "\n",
      "Using Numpy:\n",
      "Mean (Volume): 341318765.53170246\n",
      "Median (Volume): 228538000.0\n",
      "Standard Deviation (Volume): 342653409.70214003\n"
     ]
    }
   ],
   "source": [
    "# Using Pandas\n",
    "mean_volume = data['Volume'].mean()\n",
    "median_volume = data['Volume'].median()\n",
    "mode_volume = data['Volume'].mode()[0] \n",
    "std_dev_volume = data['Volume'].std()\n",
    "\n",
    "# Using Numpy\n",
    "mean_volume_np = np.mean(data['Volume'])\n",
    "median_volume_np = np.nanmedian(data['Volume'])  \n",
    "std_dev_volume_np = np.std(data['Volume'], ddof=1) \n",
    "\n",
    "print(\"Using Pandas:\")\n",
    "print(f\"Mean (Volume): {mean_volume}\")\n",
    "print(f\"Median (Volume): {median_volume}\")\n",
    "print(f\"Mode (Volume): {mode_volume}\")\n",
    "print(f\"Standard Deviation (Volume): {std_dev_volume}\")\n",
    "\n",
    "print(\"\\nUsing Numpy:\")\n",
    "print(f\"Mean (Volume): {mean_volume_np}\")\n",
    "print(f\"Median (Volume): {median_volume_np}\")\n",
    "print(f\"Standard Deviation (Volume): {std_dev_volume_np}\")"
   ]
  },
  {
   "cell_type": "code",
   "execution_count": null,
   "id": "f109e84b-e623-4c7f-aa8c-a60466dc63c9",
   "metadata": {},
   "outputs": [],
   "source": []
  }
 ],
 "metadata": {
  "kernelspec": {
   "display_name": "Python 3 (ipykernel)",
   "language": "python",
   "name": "python3"
  },
  "language_info": {
   "codemirror_mode": {
    "name": "ipython",
    "version": 3
   },
   "file_extension": ".py",
   "mimetype": "text/x-python",
   "name": "python",
   "nbconvert_exporter": "python",
   "pygments_lexer": "ipython3",
   "version": "3.11.7"
  }
 },
 "nbformat": 4,
 "nbformat_minor": 5
}
