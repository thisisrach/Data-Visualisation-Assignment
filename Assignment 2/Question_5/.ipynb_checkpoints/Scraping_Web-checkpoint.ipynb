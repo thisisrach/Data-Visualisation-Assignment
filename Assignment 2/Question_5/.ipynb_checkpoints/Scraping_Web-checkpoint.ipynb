{
 "cells": [
  {
   "cell_type": "code",
   "execution_count": 1,
   "id": "215243bd-51fc-4bc2-b272-dbe364168f7c",
   "metadata": {},
   "outputs": [
    {
     "name": "stdout",
     "output_type": "stream",
     "text": [
      "Image saved at scraped_books_images\\2cdad67c44b002e7ead0cc35693c0e8b.jpg\n",
      "Image saved at scraped_books_images\\260c6ae16bce31c8f8c95daddd9f4a1c.jpg\n",
      "Image saved at scraped_books_images\\3eef99c9d9adef34639f510662022830.jpg\n",
      "Image saved at scraped_books_images\\3251cf3a3412f53f339e42cac2134093.jpg\n",
      "Image saved at scraped_books_images\\bea5697f2534a2f86a3ef27b5a8c12a6.jpg\n",
      "Image saved at scraped_books_images\\68339b4c9bc034267e1da611ab3b34f8.jpg\n",
      "Image saved at scraped_books_images\\92274a95b7c251fea59a2b8a78275ab4.jpg\n",
      "Image saved at scraped_books_images\\3d54940e57e662c4dd1f3ff00c78cc64.jpg\n",
      "Image saved at scraped_books_images\\66883b91f6804b2323c8369331cb7dd1.jpg\n",
      "Image saved at scraped_books_images\\5846057e28022268153beff6d352b06c.jpg\n",
      "Image saved at scraped_books_images\\bef44da28c98f905a3ebec0b87be8530.jpg\n",
      "Image saved at scraped_books_images\\1048f63d3b5061cd2f424d20b3f9b666.jpg\n",
      "Image saved at scraped_books_images\\5b88c52633f53cacf162c15f4f823153.jpg\n",
      "Image saved at scraped_books_images\\94b1b8b244bce9677c2f29ccc890d4d2.jpg\n",
      "Image saved at scraped_books_images\\81c4a973364e17d01f217e1188253d5e.jpg\n",
      "Image saved at scraped_books_images\\54607fe8945897cdcced0044103b10b6.jpg\n",
      "Image saved at scraped_books_images\\553310a7162dfbc2c6d19a84da0df9e1.jpg\n",
      "Image saved at scraped_books_images\\09a3aef48557576e1a85ba7efea8ecb7.jpg\n",
      "Image saved at scraped_books_images\\0bbcd0a6f4bcd81ccb1049a52736406e.jpg\n",
      "Image saved at scraped_books_images\\27a53d0bb95bdd88288eaf66c9230d7e.jpg\n"
     ]
    }
   ],
   "source": [
    "import os\n",
    "import requests\n",
    "from bs4 import BeautifulSoup\n",
    "from PIL import Image\n",
    "from io import BytesIO\n",
    "\n",
    "def download_image(image_url, folder_path):\n",
    "    try:\n",
    "        # Retrieving images over HTTP\n",
    "        response = requests.get(image_url)\n",
    "        response.raise_for_status()\n",
    "        image_name = image_url.split(\"/\")[-1]\n",
    "        image_path = os.path.join(folder_path, image_name)\n",
    "        image = Image.open(BytesIO(response.content))\n",
    "        image.save(image_path)\n",
    "        print(f\"Image saved at {image_path}\")\n",
    "    except requests.exceptions.RequestException as e:\n",
    "        print(f\"Error downloading image: {e}\")\n",
    "    except Exception as e:\n",
    "        print(f\"Error processing image: {e}\")\n",
    "\n",
    "def scrape_images(url, folder_path):\n",
    "    try:\n",
    "        response = requests.get(url)\n",
    "        response.raise_for_status()\n",
    "        # Parsing HTML\n",
    "        soup = BeautifulSoup(response.content, \"html.parser\")\n",
    "        img_tags = soup.find_all(\"img\")\n",
    "        img_urls = [img['src'] for img in img_tags if 'src' in img.attrs]  \n",
    "        if not os.path.exists(folder_path):\n",
    "            os.makedirs(folder_path)\n",
    "        for img_url in img_urls:\n",
    "            # Web Scraping\n",
    "            if not img_url.startswith(\"http\"):\n",
    "                img_url = f\"http://books.toscrape.com/{img_url}\"\n",
    "            download_image(img_url, folder_path)\n",
    "    except requests.exceptions.RequestException as e:\n",
    "        print(f\"Error fetching webpage: {e}\")\n",
    "    except Exception as e:\n",
    "        print(f\"Error parsing webpage: {e}\")\n",
    "\n",
    "url = \"http://books.toscrape.com/catalogue/page-1.html\"\n",
    "folder_path = \"scraped_books_images\"\n",
    "\n",
    "scrape_images(url, folder_path)"
   ]
  },
  {
   "cell_type": "code",
   "execution_count": null,
   "id": "0f5d61de-81ce-4dd9-876a-08cb1763bd0d",
   "metadata": {},
   "outputs": [],
   "source": []
  }
 ],
 "metadata": {
  "kernelspec": {
   "display_name": "Python 3 (ipykernel)",
   "language": "python",
   "name": "python3"
  },
  "language_info": {
   "codemirror_mode": {
    "name": "ipython",
    "version": 3
   },
   "file_extension": ".py",
   "mimetype": "text/x-python",
   "name": "python",
   "nbconvert_exporter": "python",
   "pygments_lexer": "ipython3",
   "version": "3.11.7"
  }
 },
 "nbformat": 4,
 "nbformat_minor": 5
}
